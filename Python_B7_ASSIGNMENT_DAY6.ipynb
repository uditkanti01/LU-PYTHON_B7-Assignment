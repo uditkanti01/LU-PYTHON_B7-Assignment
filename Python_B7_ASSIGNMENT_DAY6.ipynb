{
  "nbformat": 4,
  "nbformat_minor": 0,
  "metadata": {
    "colab": {
      "name": "Python_B7_ASSIGNMENT_DAY6.ipynb",
      "provenance": [],
      "authorship_tag": "ABX9TyMyoIRJoaOumgwTuWE585yc",
      "include_colab_link": true
    },
    "kernelspec": {
      "name": "python3",
      "display_name": "Python 3"
    }
  },
  "cells": [
    {
      "cell_type": "markdown",
      "metadata": {
        "id": "view-in-github",
        "colab_type": "text"
      },
      "source": [
        "<a href=\"https://colab.research.google.com/github/uditkanti01/LU-PYTHON_B7-Assignment/blob/master/Python_B7_ASSIGNMENT_DAY6.ipynb\" target=\"_parent\"><img src=\"https://colab.research.google.com/assets/colab-badge.svg\" alt=\"Open In Colab\"/></a>"
      ]
    },
    {
      "cell_type": "markdown",
      "metadata": {
        "id": "UxWhuda3Zxyc",
        "colab_type": "text"
      },
      "source": [
        "#ASSIGNMENT 1"
      ]
    },
    {
      "cell_type": "markdown",
      "metadata": {
        "id": "rbKWX0VZaBex",
        "colab_type": "text"
      },
      "source": [
        " Class For A Bank Account"
      ]
    },
    {
      "cell_type": "code",
      "metadata": {
        "id": "0kbtj3zjaHaL",
        "colab_type": "code",
        "colab": {
          "base_uri": "https://localhost:8080/",
          "height": 327
        },
        "outputId": "56eef981-549a-46e2-b8c6-d7d826944579"
      },
      "source": [
        "class BankAccount: \n",
        " \n",
        "    def __init__(self): \n",
        " \n",
        "        self.ownerName=\"UDITKANTI JENA\"\n",
        "        self.accountNo= \"19 *****5358\"\n",
        "        \n",
        "        self.Balance=0\n",
        "        \n",
        "    def deposit(self): \n",
        "        \n",
        "        Amount=float(input(\"\\nEnter amount to be Deposited : \")) \n",
        "        \n",
        "        self.Balance += Amount \n",
        "        \n",
        "        print(\"\\nAmount Deposited is :\",Amount) \n",
        "  \n",
        "    def withdraw(self): \n",
        "        \n",
        "        Amount = float(input(\"\\nEnter amount to be Withdrawn : \")) \n",
        "        \n",
        "        if self.Balance >= Amount: \n",
        "        \n",
        "            self.Balance -= Amount \n",
        "            \n",
        "            print(\"\\nYou have Withdrew :\", Amount) \n",
        "        \n",
        "        else: \n",
        "        \n",
        "            print(\"\\nInsufficient balance in the account...\") \n",
        " \n",
        "print(\"\\n••|| WELCOME TO PAYTM PAYMENT BANK ||••\")\n",
        "    \n",
        "BA = BankAccount()\n",
        " \n",
        "print(\"\\nAccount Holder Name is :\",BA.ownerName)\n",
        "print(\"\\nAccount Number is :\",BA.accountNo)\n",
        "    \n",
        "print(\"\\nInitial Account Balance is :\",BA.Balance)\n",
        "   \n",
        "BA.deposit();\n",
        "    \n",
        "BA.withdraw();\n",
        "    \n",
        "print(\"\\nNet Avaliable balance is : \",BA.Balance)"
      ],
      "execution_count": 2,
      "outputs": [
        {
          "output_type": "stream",
          "text": [
            "\n",
            "••|| WELCOME TO PAYTM PAYMENT BANK ||••\n",
            "\n",
            "Account Holder Name is : UDITKANTI JENA\n",
            "\n",
            "Account Number is : 19 *****5358\n",
            "\n",
            "Initial Account Balance is : 0\n",
            "\n",
            "Enter amount to be Deposited : 200000\n",
            "\n",
            "Amount Deposited is : 200000.0\n",
            "\n",
            "Enter amount to be Withdrawn : 1567\n",
            "\n",
            "You have Withdrew : 1567.0\n",
            "\n",
            "Net Avaliable balance is :  198433.0\n"
          ],
          "name": "stdout"
        }
      ]
    },
    {
      "cell_type": "markdown",
      "metadata": {
        "id": "ObaPFwUYcs0a",
        "colab_type": "text"
      },
      "source": [
        "# ASSIGNMENT 2"
      ]
    },
    {
      "cell_type": "markdown",
      "metadata": {
        "id": "LDEzdw8QctNG",
        "colab_type": "text"
      },
      "source": [
        "Class for calculating volume and surface area of a cone."
      ]
    },
    {
      "cell_type": "code",
      "metadata": {
        "id": "6E-PYYprctkm",
        "colab_type": "code",
        "colab": {
          "base_uri": "https://localhost:8080/",
          "height": 155
        },
        "outputId": "d798a09a-b9d1-41f9-ea2a-b0fc19c7cdfe"
      },
      "source": [
        "import math\n",
        " \n",
        "pi = math.pi\n",
        " \n",
        "class cone:\n",
        "    \n",
        "    def __init__(self,r,h): \n",
        " \n",
        "        self.r=r\n",
        "        \n",
        "        self.h=h\n",
        "        \n",
        "    def volume(self):\n",
        "        \n",
        "        result = (1 / 3) * pi * self.r * self.r * self.h\n",
        "        \n",
        "        print(\"\\nVolume Of Cone is :\",result)\n",
        "        \n",
        "    def surfacearea(self):\n",
        "        \n",
        "        result = pi * self.r * self.h + pi * self.r * self.r\n",
        "         \n",
        "        print(\"\\nSurface Area Of Cone is :\",result)\n",
        "ra = float(input(\"\\nEnter the radius of cone : \"))\n",
        " \n",
        "he = float(input(\"\\nEnter the height of cone : \"))\n",
        " \n",
        "c = cone( ra, he)\n",
        " \n",
        "c.volume()\n",
        " \n",
        "c.surfacearea()"
      ],
      "execution_count": null,
      "outputs": [
        {
          "output_type": "stream",
          "text": [
            "\n",
            "Enter the radius of cone : 5.6\n",
            "\n",
            "Enter the height of cone : 9\n",
            "\n",
            "Volume Of Cone is : 295.5610368497277\n",
            "\n",
            "Surface Area Of Cone is : 256.8566153575015\n"
          ],
          "name": "stdout"
        }
      ]
    }
  ]
}