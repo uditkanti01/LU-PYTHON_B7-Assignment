{
  "nbformat": 4,
  "nbformat_minor": 0,
  "metadata": {
    "colab": {
      "name": "Python_B7_ASSIGNMENT DAY_4.ipynb",
      "provenance": [],
      "collapsed_sections": [],
      "authorship_tag": "ABX9TyPBpv5VKtVakBedFhXR/wiM",
      "include_colab_link": true
    },
    "kernelspec": {
      "name": "python3",
      "display_name": "Python 3"
    }
  },
  "cells": [
    {
      "cell_type": "markdown",
      "metadata": {
        "id": "view-in-github",
        "colab_type": "text"
      },
      "source": [
        "<a href=\"https://colab.research.google.com/github/uditkanti01/LU-PYTHON_B7-Assignment/blob/master/Python_B7_ASSIGNMENT_DAY_4.ipynb\" target=\"_parent\"><img src=\"https://colab.research.google.com/assets/colab-badge.svg\" alt=\"Open In Colab\"/></a>"
      ]
    },
    {
      "cell_type": "markdown",
      "metadata": {
        "id": "L8x_D5mrOALD",
        "colab_type": "text"
      },
      "source": [
        "#ASSIGNMENT 1"
      ]
    },
    {
      "cell_type": "markdown",
      "metadata": {
        "id": "WZPHkDYFOWNg",
        "colab_type": "text"
      },
      "source": [
        " Write a program using while loop ,to find the first armstrong no. Between 1042000 - 702648266. After first armstrong no. End it.!"
      ]
    },
    {
      "cell_type": "code",
      "metadata": {
        "id": "Q86I-d42GDwX",
        "colab_type": "code",
        "colab": {
          "base_uri": "https://localhost:8080/",
          "height": 68
        },
        "outputId": "ae503b65-1c6d-4143-bcbf-02728eb15b1b"
      },
      "source": [
        " \n",
        "for num in range(1042000,702648266):\n",
        "    order=len(str(num))\n",
        "    sum = 0\n",
        "    temp = num\n",
        "    while temp > 0:\n",
        "        d = temp % 10\n",
        "        sum += d ** order\n",
        "        temp //= 10\n",
        "    if num == sum:\n",
        "         print(\"The first Armstrong number is-\",num)\n",
        "         print(\"\\nFound..👍\")\n",
        "         break"
      ],
      "execution_count": 11,
      "outputs": [
        {
          "output_type": "stream",
          "text": [
            "The first Armstrong number is- 1741725\n",
            "\n",
            "Found..👍\n"
          ],
          "name": "stdout"
        }
      ]
    }
  ]
}