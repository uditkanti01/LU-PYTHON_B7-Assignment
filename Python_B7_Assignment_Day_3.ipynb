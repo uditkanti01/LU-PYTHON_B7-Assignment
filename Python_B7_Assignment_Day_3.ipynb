{
  "nbformat": 4,
  "nbformat_minor": 0,
  "metadata": {
    "colab": {
      "name": "Python_B7_Assignment 1_Day 3.ipynb",
      "provenance": [],
      "collapsed_sections": [],
      "authorship_tag": "ABX9TyMIfvVS8+Wy79zcMe5tqcgg",
      "include_colab_link": true
    },
    "kernelspec": {
      "name": "python3",
      "display_name": "Python 3"
    }
  },
  "cells": [
    {
      "cell_type": "markdown",
      "metadata": {
        "id": "view-in-github",
        "colab_type": "text"
      },
      "source": [
        "<a href=\"https://colab.research.google.com/github/uditkanti01/LU-PYTHON_B7-Assignment/blob/master/Python_B7_Assignment_1_Day_3.ipynb\" target=\"_parent\"><img src=\"https://colab.research.google.com/assets/colab-badge.svg\" alt=\"Open In Colab\"/></a>"
      ]
    },
    {
      "cell_type": "markdown",
      "metadata": {
        "id": "3TpHkXKOLkfm",
        "colab_type": "text"
      },
      "source": [
        "# ASSIGNMENT 1"
      ]
    },
    {
      "cell_type": "markdown",
      "metadata": {
        "id": "u7BM4wVALDHj",
        "colab_type": "text"
      },
      "source": [
        "Program of pilot to instruct how land the plane safely"
      ]
    },
    {
      "cell_type": "code",
      "metadata": {
        "id": "znNT2GFHx-xe",
        "colab_type": "code",
        "colab": {
          "base_uri": "https://localhost:8080/",
          "height": 88
        },
        "outputId": "a6bf3454-5318-4b88-8de2-6a2d54fda394"
      },
      "source": [
        " \n",
        "print(\"REQUIRED ALTITUDE FOR LANDING IS 1000FT\")\n",
        "altitude\n",
        "altitude=input(\"Enter the value of Altitude(FT) that plane had reached:\")\n",
        "altitude=int(altitude)\n",
        "if altitude<=1000:\n",
        "    print(\"ALERT: LAND THE PLANE AS IT HAS REACHED ITS REQUIRED ALTITUDE\" )\n",
        "elif altitude<5000:\n",
        "    print(\"ALERT: TAKE DOWN THE PLANE AROUND 1000FT FOR LANDING\" )\n",
        "else:\n",
        "    print(\"TURN AROUND & TRY LATER\" )"
      ],
      "execution_count": null,
      "outputs": [
        {
          "output_type": "stream",
          "text": [
            "REQUIRED ALTITUDE FOR LANDING IS 1000FT\n",
            "Enter the value of Altitude(FT) that plane had reached:66\n",
            "ALERT: LAND THE PLANE AS IT HAS REACHED ITS REQUIRED ALTITUDE\n"
          ],
          "name": "stdout"
        }
      ]
    },
    {
      "cell_type": "markdown",
      "metadata": {
        "id": "kVx1FE3aLRFY",
        "colab_type": "text"
      },
      "source": [
        "# ASSIGNMENT 2"
      ]
    },
    {
      "cell_type": "markdown",
      "metadata": {
        "id": "sBDHSP9QEmlN",
        "colab_type": "text"
      },
      "source": [
        "Write a program to find prime nos. Between 1 to 200"
      ]
    },
    {
      "cell_type": "code",
      "metadata": {
        "id": "5POyxtwz1kU3",
        "colab_type": "code",
        "colab": {
          "base_uri": "https://localhost:8080/",
          "height": 879
        },
        "outputId": "6598df1d-2f1d-453b-d4f2-4690cf37e0c8"
      },
      "source": [
        " print(\"All Prime Number b/w 1-200 :--\")\n",
        "for i in range(0,200):\n",
        "    for j in range(2,i):\n",
        "        if(i%j==0):\n",
        "            break\n",
        "    else:\n",
        "        print(i,\"= prime number\")\n",
        " \n",
        "print(\"This is all for now 😅\")"
      ],
      "execution_count": 90,
      "outputs": [
        {
          "output_type": "stream",
          "text": [
            "All Prime Number b/w 1-200 :--\n",
            "0 = prime number\n",
            "1 = prime number\n",
            "2 = prime number\n",
            "3 = prime number\n",
            "5 = prime number\n",
            "7 = prime number\n",
            "11 = prime number\n",
            "13 = prime number\n",
            "17 = prime number\n",
            "19 = prime number\n",
            "23 = prime number\n",
            "29 = prime number\n",
            "31 = prime number\n",
            "37 = prime number\n",
            "41 = prime number\n",
            "43 = prime number\n",
            "47 = prime number\n",
            "53 = prime number\n",
            "59 = prime number\n",
            "61 = prime number\n",
            "67 = prime number\n",
            "71 = prime number\n",
            "73 = prime number\n",
            "79 = prime number\n",
            "83 = prime number\n",
            "89 = prime number\n",
            "97 = prime number\n",
            "101 = prime number\n",
            "103 = prime number\n",
            "107 = prime number\n",
            "109 = prime number\n",
            "113 = prime number\n",
            "127 = prime number\n",
            "131 = prime number\n",
            "137 = prime number\n",
            "139 = prime number\n",
            "149 = prime number\n",
            "151 = prime number\n",
            "157 = prime number\n",
            "163 = prime number\n",
            "167 = prime number\n",
            "173 = prime number\n",
            "179 = prime number\n",
            "181 = prime number\n",
            "191 = prime number\n",
            "193 = prime number\n",
            "197 = prime number\n",
            "199 = prime number\n",
            "This is all for now 😅\n"
          ],
          "name": "stdout"
        }
      ]
    }
  ]
}
